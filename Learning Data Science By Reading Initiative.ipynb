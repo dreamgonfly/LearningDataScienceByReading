{
 "cells": [
  {
   "cell_type": "markdown",
   "metadata": {
    "slideshow": {
     "slide_type": "slide"
    }
   },
   "source": [
    "# 데이터 사이언스를 글로 배웠습니다"
   ]
  },
  {
   "cell_type": "markdown",
   "metadata": {},
   "source": [
    "## Learning Data Science by Reading"
   ]
  },
  {
   "cell_type": "markdown",
   "metadata": {
    "slideshow": {
     "slide_type": "slide"
    }
   },
   "source": [
    "# 아이디어"
   ]
  },
  {
   "cell_type": "markdown",
   "metadata": {
    "slideshow": {
     "slide_type": "subslide"
    }
   },
   "source": [
    "# UCSD 데이터 사이언스 석사과정"
   ]
  },
  {
   "cell_type": "markdown",
   "metadata": {
    "slideshow": {
     "slide_type": "-"
    }
   },
   "source": [
    "### UCSD Master of Advanced Study in Data Science and Engineering (MAS DSE)"
   ]
  },
  {
   "cell_type": "markdown",
   "metadata": {
    "slideshow": {
     "slide_type": "fragment"
    }
   },
   "source": [
    "2년 과정\n",
    "\n",
    "10개 수업\n",
    "\n",
    "케이스 스터디\n",
    "\n",
    "프로젝트\n",
    "\n",
    "파이썬"
   ]
  },
  {
   "cell_type": "markdown",
   "metadata": {
    "slideshow": {
     "slide_type": "subslide"
    }
   },
   "source": [
    "## Curriculum"
   ]
  },
  {
   "cell_type": "markdown",
   "metadata": {},
   "source": [
    "Python for Data Analysis\n",
    "\n",
    "Data Management Systems\n",
    "\n",
    "Probability and Statistics Using Python\n",
    "\n",
    "Machine Learning\n",
    "\n",
    "Data Visualization"
   ]
  },
  {
   "cell_type": "markdown",
   "metadata": {
    "slideshow": {
     "slide_type": "subslide"
    }
   },
   "source": [
    "## 학비"
   ]
  },
  {
   "cell_type": "markdown",
   "metadata": {
    "slideshow": {
     "slide_type": "fragment"
    }
   },
   "source": [
    "### 4000만 원\n",
    "\n",
    "### $36,500"
   ]
  },
  {
   "cell_type": "markdown",
   "metadata": {
    "slideshow": {
     "slide_type": "subslide"
    }
   },
   "source": [
    "## 책으로 다 배울 수 있다\n",
    "\n",
    "<img src=\"http://static1.squarespace.com/static/54bf3241e4b0f0d81bf7ff36/t/56022757e4b040a5bbf6c5e0/1442981721286/main-qimg-23413ee356f9ebb6e919368402289b87.jpeg?format=500w\" />"
   ]
  },
  {
   "cell_type": "markdown",
   "metadata": {
    "slideshow": {
     "slide_type": "slide"
    }
   },
   "source": [
    "# 책"
   ]
  },
  {
   "cell_type": "markdown",
   "metadata": {
    "slideshow": {
     "slide_type": "subslide"
    }
   },
   "source": [
    "## Think Bayes\n",
    "\n",
    "베이지안 확률 기초\n",
    "\n",
    "수학 대신 파이썬\n",
    "\n",
    "증명 보단 이해\n",
    "\n",
    "<img src=\"http://t3.gstatic.com/images?q=tbn:ANd9GcTKCfHWdYiYki9lnO4kihvqinp8FFBeqgp5qnx2dTeDEQbapFES\" />"
   ]
  },
  {
   "cell_type": "markdown",
   "metadata": {
    "slideshow": {
     "slide_type": "subslide"
    }
   },
   "source": [
    "## Python for Data Analysis\n",
    "\n",
    "Pandas 및 데이터 처리에 대한 모든 것\n",
    "\n",
    "<img src=\"http://t3.gstatic.com/images?q=tbn:ANd9GcQ0SUQ5II7tUi0qGpSDbzTG6CyYbOFat3WMtCc1-kYTz5scCT9R\" />"
   ]
  },
  {
   "cell_type": "markdown",
   "metadata": {
    "slideshow": {
     "slide_type": "subslide"
    }
   },
   "source": [
    "## Building Machine Learning Systems with Python\n",
    "\n",
    "scikit-learn : 파이썬 머신러닝 모듈\n",
    "\n",
    "<img src=\"http://t3.gstatic.com/images?q=tbn:ANd9GcQi30WXBzsYoBcslxZp45smq9aPBRThiiOhP-byh33GiAscRIda\" />"
   ]
  },
  {
   "cell_type": "markdown",
   "metadata": {
    "slideshow": {
     "slide_type": "subslide"
    }
   },
   "source": [
    "## Natural Language Processing With Python\n",
    "\n",
    "자연어 처리 기초부터 고수까지\n",
    "\n",
    "NLTK : 파이썬 자연어처리 모듈\n",
    "\n",
    "<img src=\"http://t2.gstatic.com/images?q=tbn:ANd9GcTKJKsf1hti6IB9GEs7oXVk0la3jUsfEuqXB4LLl0olAB5WBNO1\" />"
   ]
  },
  {
   "cell_type": "markdown",
   "metadata": {
    "slideshow": {
     "slide_type": "subslide"
    }
   },
   "source": [
    "## Machine Learning in Action\n",
    "\n",
    "머신러닝 직접 코딩하며 배우기\n",
    "\n",
    "파이썬\n",
    "\n",
    "<img src=\"http://t1.gstatic.com/images?q=tbn:ANd9GcRO89IqqzaHUCZKe7yoiIDZEU2UxSuwc_PShEWsdXJOlBGXTi5k\" />"
   ]
  },
  {
   "cell_type": "markdown",
   "metadata": {
    "slideshow": {
     "slide_type": "subslide"
    }
   },
   "source": [
    "## Interactive Data Visualization for the Web\n",
    "\n",
    "데이터 시각화\n",
    "\n",
    "D3.js\n",
    "\n",
    "<img src=\"http://t0.gstatic.com/images?q=tbn:ANd9GcRAwnbqUAw2U2O_O9JbT8m_2JNyTB78e2mv_E4vgUDtD9OQqaI7\" />"
   ]
  },
  {
   "cell_type": "markdown",
   "metadata": {
    "slideshow": {
     "slide_type": "subslide"
    }
   },
   "source": [
    "## And more..."
   ]
  },
  {
   "cell_type": "markdown",
   "metadata": {
    "slideshow": {
     "slide_type": "slide"
    }
   },
   "source": [
    "# 스터디 구성"
   ]
  },
  {
   "cell_type": "markdown",
   "metadata": {
    "slideshow": {
     "slide_type": "subslide"
    }
   },
   "source": [
    "## 스터디 대상\n",
    "\n",
    "Python을 처음 시작하는 사람부터 데이터 사이언스를 어느정도 알고 있는 사람까지 누구나\n",
    "\n",
    "자발적인 참여로 (의무 아님)"
   ]
  },
  {
   "cell_type": "markdown",
   "metadata": {
    "slideshow": {
     "slide_type": "subslide"
    }
   },
   "source": [
    "## 스터디 방식"
   ]
  },
  {
   "cell_type": "markdown",
   "metadata": {},
   "source": [
    "일주일에 1회 모임 (요일 미정)\n",
    "\n",
    "한 주에 1~2 챕터씩 읽어오기 & 코드 실행해보기\n",
    "\n",
    "제비뽑기를 통해 그날 발제자 정하기\n",
    "\n",
    "발제와 토론\n",
    "\n",
    "같이 예제 풀기"
   ]
  },
  {
   "cell_type": "markdown",
   "metadata": {
    "slideshow": {
     "slide_type": "slide"
    }
   },
   "source": [
    "# 목표"
   ]
  },
  {
   "cell_type": "markdown",
   "metadata": {
    "slideshow": {
     "slide_type": "fragment"
    }
   },
   "source": [
    "연대에는 데이터 사이언스 학과가 없다"
   ]
  },
  {
   "cell_type": "markdown",
   "metadata": {
    "slideshow": {
     "slide_type": "fragment"
    }
   },
   "source": [
    "한국에는 데이터 사이언스 학과가 없다"
   ]
  },
  {
   "cell_type": "markdown",
   "metadata": {
    "slideshow": {
     "slide_type": "fragment"
    }
   },
   "source": [
    "YBIGTA가 데이터 사이언스 학과가 되자"
   ]
  },
  {
   "cell_type": "markdown",
   "metadata": {
    "slideshow": {
     "slide_type": "notes"
    }
   },
   "source": [
    "마치 데이터 사이언스 복수전공을 하는 것만큼 많이 배워갈 수 있도록"
   ]
  },
  {
   "cell_type": "markdown",
   "metadata": {
    "slideshow": {
     "slide_type": "slide"
    }
   },
   "source": [
    "# 끝"
   ]
  }
 ],
 "metadata": {
  "celltoolbar": "Slideshow",
  "kernelspec": {
   "display_name": "Python 3",
   "language": "python",
   "name": "python3"
  },
  "language_info": {
   "codemirror_mode": {
    "name": "ipython",
    "version": 3
   },
   "file_extension": ".py",
   "mimetype": "text/x-python",
   "name": "python",
   "nbconvert_exporter": "python",
   "pygments_lexer": "ipython3",
   "version": "3.4.3"
  }
 },
 "nbformat": 4,
 "nbformat_minor": 0
}
