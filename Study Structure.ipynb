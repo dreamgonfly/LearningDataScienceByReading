{
 "cells": [
  {
   "cell_type": "markdown",
   "metadata": {
    "slideshow": {
     "slide_type": "slide"
    }
   },
   "source": [
    "# 데이터 사이언스를 글로 배웠어요\n",
    "## Learning Data Science By Reading"
   ]
  },
  {
   "cell_type": "markdown",
   "metadata": {
    "slideshow": {
     "slide_type": "slide"
    }
   },
   "source": [
    "# 스터디 구성\n",
    "\n",
    "1. 책을 읽고\n",
    "2. 일주일에 한 번 모여서 \n",
    "3. 같이 이야기하기"
   ]
  },
  {
   "cell_type": "markdown",
   "metadata": {
    "slideshow": {
     "slide_type": "slide"
    }
   },
   "source": [
    "# 스터디 전\n",
    "\n",
    "1. 책 읽기\n",
    "2. 코드 실행해보기\n",
    "3. 다 읽고 카톡방에 알리기\n",
    "4. 이해 안되는 부분 정리"
   ]
  },
  {
   "cell_type": "markdown",
   "metadata": {
    "slideshow": {
     "slide_type": "slide"
    }
   },
   "source": [
    "# 스터디\n",
    "\n",
    "1. 발제자가 요약\n",
    "2. 질문 및 토론\n",
    "3. 예제 풀어보기\n",
    "4. 가져온 문제 풀어보기"
   ]
  },
  {
   "cell_type": "markdown",
   "metadata": {
    "slideshow": {
     "slide_type": "slide"
    }
   },
   "source": [
    "# 스터디 시간\n",
    "\n",
    "- 목요일\n",
    "- 학기 중 6시 ~ 8시\n",
    "- 방학 중?"
   ]
  },
  {
   "cell_type": "markdown",
   "metadata": {
    "slideshow": {
     "slide_type": "slide"
    }
   },
   "source": [
    "# 발제자 선정\n",
    "\n",
    "- 한 챕터 당 한 명씩\n",
    "- 랜덤 함수로 그 자리에서 선정\n",
    "- 발제자는 그 챕터 요약 정리"
   ]
  },
  {
   "cell_type": "markdown",
   "metadata": {
    "slideshow": {
     "slide_type": "slide"
    }
   },
   "source": [
    "# 예시\n",
    "\n",
    "챕터 2, 3, 4를 읽어왔을 때\n",
    "\n",
    "챕터 2 발제자 선정 - 요약 전달 - 토론 - 문제 풀기\n",
    "\n",
    "챕터 3 발제자 선정 - 요약 전달 - 토론 - 문제 풀기\n",
    "\n",
    "챕터 4 발제자 선정 - 요약 전달 - 토론 - 문제 풀기"
   ]
  }
 ],
 "metadata": {
  "celltoolbar": "Slideshow",
  "kernelspec": {
   "display_name": "Python 3",
   "language": "python",
   "name": "python3"
  },
  "language_info": {
   "codemirror_mode": {
    "name": "ipython",
    "version": 3
   },
   "file_extension": ".py",
   "mimetype": "text/x-python",
   "name": "python",
   "nbconvert_exporter": "python",
   "pygments_lexer": "ipython3",
   "version": "3.4.3"
  }
 },
 "nbformat": 4,
 "nbformat_minor": 0
}
